{
  "nbformat": 4,
  "nbformat_minor": 0,
  "metadata": {
    "colab": {
      "name": "information_extraction_colab.ipynb",
      "provenance": [],
      "collapsed_sections": [],
      "mount_file_id": "1ULnPfpsJg8GssuM6_-ovqUHz4hhUzJUc",
      "authorship_tag": "ABX9TyPThe9nX3GvIkcczdkEW9Xr",
      "include_colab_link": true
    },
    "kernelspec": {
      "name": "python3",
      "display_name": "Python 3"
    }
  },
  "cells": [
    {
      "cell_type": "markdown",
      "metadata": {
        "id": "view-in-github",
        "colab_type": "text"
      },
      "source": [
        "<a href=\"https://colab.research.google.com/github/Midii-11/IRTM_SARS-COV2/blob/master/information_extraction_colab.ipynb\" target=\"_parent\"><img src=\"https://colab.research.google.com/assets/colab-badge.svg\" alt=\"Open In Colab\"/></a>"
      ]
    },
    {
      "cell_type": "code",
      "metadata": {
        "id": "NSIDn4BtA6RR",
        "colab_type": "code",
        "colab": {}
      },
      "source": [
        "import json\n",
        "import pandas as pd\n",
        "import numpy as np\n",
        "import nltk\n",
        "from nltk import RegexpTokenizer\n",
        "from nltk.tokenize import word_tokenize\n",
        "from nltk.corpus import stopwords \n",
        "from nltk.stem import PorterStemmer\n",
        "from sklearn.feature_extraction.text import TfidfVectorizer"
      ],
      "execution_count": 0,
      "outputs": []
    },
    {
      "cell_type": "code",
      "metadata": {
        "id": "kshZ2hILBEu2",
        "colab_type": "code",
        "colab": {
          "base_uri": "https://localhost:8080/",
          "height": 34
        },
        "outputId": "9001071e-d1c0-43bd-f12f-389b3e675dc4"
      },
      "source": [
        "%cd /content/drive/My Drive/NLP/Project"
      ],
      "execution_count": 320,
      "outputs": [
        {
          "output_type": "stream",
          "text": [
            "/content/drive/My Drive/NLP/Project\n"
          ],
          "name": "stdout"
        }
      ]
    },
    {
      "cell_type": "code",
      "metadata": {
        "id": "f6qrcRkKBx21",
        "colab_type": "code",
        "colab": {
          "base_uri": "https://localhost:8080/",
          "height": 102
        },
        "outputId": "6e077525-4459-45c5-852a-28f06dda049e"
      },
      "source": [
        "%ls"
      ],
      "execution_count": 321,
      "outputs": [
        {
          "output_type": "stream",
          "text": [
            " \u001b[0m\u001b[01;34mExemples\u001b[0m/                      \u001b[01;34mRessources\u001b[0m/\n",
            " information_extraction.ipynb  'Screenshot 2020-04-15 at 20.56.34.png'\n",
            " IRTM_Proposal.pdf             'Screenshot 2020-04-15 at 22.41.45 (2).png'\n",
            " metadata.csv                  'Screenshot 2020-04-15 at 22.54.48 (2).png'\n",
            " \u001b[01;34mnoncomm_use_subset\u001b[0m/            tulkens2019.pdf\n"
          ],
          "name": "stdout"
        }
      ]
    },
    {
      "cell_type": "code",
      "metadata": {
        "id": "8_vDE3EtA_y8",
        "colab_type": "code",
        "colab": {}
      },
      "source": [
        "df = pd.read_csv('metadata.csv')"
      ],
      "execution_count": 0,
      "outputs": []
    },
    {
      "cell_type": "code",
      "metadata": {
        "id": "XvATKVk7CWic",
        "colab_type": "code",
        "colab": {
          "base_uri": "https://localhost:8080/",
          "height": 666
        },
        "outputId": "931cfefc-5f86-4ca3-db16-d019f2d1f097"
      },
      "source": [
        "df.head()"
      ],
      "execution_count": 323,
      "outputs": [
        {
          "output_type": "execute_result",
          "data": {
            "text/html": [
              "<div>\n",
              "<style scoped>\n",
              "    .dataframe tbody tr th:only-of-type {\n",
              "        vertical-align: middle;\n",
              "    }\n",
              "\n",
              "    .dataframe tbody tr th {\n",
              "        vertical-align: top;\n",
              "    }\n",
              "\n",
              "    .dataframe thead th {\n",
              "        text-align: right;\n",
              "    }\n",
              "</style>\n",
              "<table border=\"1\" class=\"dataframe\">\n",
              "  <thead>\n",
              "    <tr style=\"text-align: right;\">\n",
              "      <th></th>\n",
              "      <th>cord_uid</th>\n",
              "      <th>sha</th>\n",
              "      <th>source_x</th>\n",
              "      <th>title</th>\n",
              "      <th>doi</th>\n",
              "      <th>pmcid</th>\n",
              "      <th>pubmed_id</th>\n",
              "      <th>license</th>\n",
              "      <th>abstract</th>\n",
              "      <th>publish_time</th>\n",
              "      <th>authors</th>\n",
              "      <th>journal</th>\n",
              "      <th>Microsoft Academic Paper ID</th>\n",
              "      <th>WHO #Covidence</th>\n",
              "      <th>has_pdf_parse</th>\n",
              "      <th>has_pmc_xml_parse</th>\n",
              "      <th>full_text_file</th>\n",
              "      <th>url</th>\n",
              "    </tr>\n",
              "  </thead>\n",
              "  <tbody>\n",
              "    <tr>\n",
              "      <th>0</th>\n",
              "      <td>xqhn0vbp</td>\n",
              "      <td>1e1286db212100993d03cc22374b624f7caee956</td>\n",
              "      <td>PMC</td>\n",
              "      <td>Airborne rhinovirus detection and effect of ul...</td>\n",
              "      <td>10.1186/1471-2458-3-5</td>\n",
              "      <td>PMC140314</td>\n",
              "      <td>12525263.0</td>\n",
              "      <td>no-cc</td>\n",
              "      <td>BACKGROUND: Rhinovirus, the most common cause ...</td>\n",
              "      <td>2003-01-13</td>\n",
              "      <td>Myatt, Theodore A; Johnston, Sebastian L; Rudn...</td>\n",
              "      <td>BMC Public Health</td>\n",
              "      <td>NaN</td>\n",
              "      <td>NaN</td>\n",
              "      <td>True</td>\n",
              "      <td>True</td>\n",
              "      <td>custom_license</td>\n",
              "      <td>https://www.ncbi.nlm.nih.gov/pmc/articles/PMC1...</td>\n",
              "    </tr>\n",
              "    <tr>\n",
              "      <th>1</th>\n",
              "      <td>gi6uaa83</td>\n",
              "      <td>8ae137c8da1607b3a8e4c946c07ca8bda67f88ac</td>\n",
              "      <td>PMC</td>\n",
              "      <td>Discovering human history from stomach bacteria</td>\n",
              "      <td>10.1186/gb-2003-4-5-213</td>\n",
              "      <td>PMC156578</td>\n",
              "      <td>12734001.0</td>\n",
              "      <td>no-cc</td>\n",
              "      <td>Recent analyses of human pathogens have reveal...</td>\n",
              "      <td>2003-04-28</td>\n",
              "      <td>Disotell, Todd R</td>\n",
              "      <td>Genome Biol</td>\n",
              "      <td>NaN</td>\n",
              "      <td>NaN</td>\n",
              "      <td>True</td>\n",
              "      <td>True</td>\n",
              "      <td>custom_license</td>\n",
              "      <td>https://www.ncbi.nlm.nih.gov/pmc/articles/PMC1...</td>\n",
              "    </tr>\n",
              "    <tr>\n",
              "      <th>2</th>\n",
              "      <td>le0ogx1s</td>\n",
              "      <td>NaN</td>\n",
              "      <td>PMC</td>\n",
              "      <td>A new recruit for the army of the men of death</td>\n",
              "      <td>10.1186/gb-2003-4-7-113</td>\n",
              "      <td>PMC193621</td>\n",
              "      <td>12844350.0</td>\n",
              "      <td>no-cc</td>\n",
              "      <td>The army of the men of death, in John Bunyan's...</td>\n",
              "      <td>2003-06-27</td>\n",
              "      <td>Petsko, Gregory A</td>\n",
              "      <td>Genome Biol</td>\n",
              "      <td>NaN</td>\n",
              "      <td>NaN</td>\n",
              "      <td>False</td>\n",
              "      <td>True</td>\n",
              "      <td>custom_license</td>\n",
              "      <td>https://www.ncbi.nlm.nih.gov/pmc/articles/PMC1...</td>\n",
              "    </tr>\n",
              "    <tr>\n",
              "      <th>3</th>\n",
              "      <td>fy4w7xz8</td>\n",
              "      <td>0104f6ceccf92ae8567a0102f89cbb976969a774</td>\n",
              "      <td>PMC</td>\n",
              "      <td>Association of HLA class I with severe acute r...</td>\n",
              "      <td>10.1186/1471-2350-4-9</td>\n",
              "      <td>PMC212558</td>\n",
              "      <td>12969506.0</td>\n",
              "      <td>no-cc</td>\n",
              "      <td>BACKGROUND: The human leukocyte antigen (HLA) ...</td>\n",
              "      <td>2003-09-12</td>\n",
              "      <td>Lin, Marie; Tseng, Hsiang-Kuang; Trejaut, Jean...</td>\n",
              "      <td>BMC Med Genet</td>\n",
              "      <td>NaN</td>\n",
              "      <td>NaN</td>\n",
              "      <td>True</td>\n",
              "      <td>True</td>\n",
              "      <td>custom_license</td>\n",
              "      <td>https://www.ncbi.nlm.nih.gov/pmc/articles/PMC2...</td>\n",
              "    </tr>\n",
              "    <tr>\n",
              "      <th>4</th>\n",
              "      <td>0qaoam29</td>\n",
              "      <td>5b68a553a7cbbea13472721cd1ad617d42b40c26</td>\n",
              "      <td>PMC</td>\n",
              "      <td>A double epidemic model for the SARS propagation</td>\n",
              "      <td>10.1186/1471-2334-3-19</td>\n",
              "      <td>PMC222908</td>\n",
              "      <td>12964944.0</td>\n",
              "      <td>no-cc</td>\n",
              "      <td>BACKGROUND: An epidemic of a Severe Acute Resp...</td>\n",
              "      <td>2003-09-10</td>\n",
              "      <td>Ng, Tuen Wai; Turinici, Gabriel; Danchin, Antoine</td>\n",
              "      <td>BMC Infect Dis</td>\n",
              "      <td>NaN</td>\n",
              "      <td>NaN</td>\n",
              "      <td>True</td>\n",
              "      <td>True</td>\n",
              "      <td>custom_license</td>\n",
              "      <td>https://www.ncbi.nlm.nih.gov/pmc/articles/PMC2...</td>\n",
              "    </tr>\n",
              "  </tbody>\n",
              "</table>\n",
              "</div>"
            ],
            "text/plain": [
              "   cord_uid  ...                                                url\n",
              "0  xqhn0vbp  ...  https://www.ncbi.nlm.nih.gov/pmc/articles/PMC1...\n",
              "1  gi6uaa83  ...  https://www.ncbi.nlm.nih.gov/pmc/articles/PMC1...\n",
              "2  le0ogx1s  ...  https://www.ncbi.nlm.nih.gov/pmc/articles/PMC1...\n",
              "3  fy4w7xz8  ...  https://www.ncbi.nlm.nih.gov/pmc/articles/PMC2...\n",
              "4  0qaoam29  ...  https://www.ncbi.nlm.nih.gov/pmc/articles/PMC2...\n",
              "\n",
              "[5 rows x 18 columns]"
            ]
          },
          "metadata": {
            "tags": []
          },
          "execution_count": 323
        }
      ]
    },
    {
      "cell_type": "code",
      "metadata": {
        "id": "pMhYh6kqCp9_",
        "colab_type": "code",
        "colab": {}
      },
      "source": [
        "# take relevent stuff\n",
        "df_concat = pd.concat([df['title'],df['abstract']], axis=1)"
      ],
      "execution_count": 0,
      "outputs": []
    },
    {
      "cell_type": "code",
      "metadata": {
        "id": "3QgFbxATC0Ze",
        "colab_type": "code",
        "colab": {}
      },
      "source": [
        "# for key in d.keys():\n",
        "#   if type(d[key]) is not float:\n",
        "#     l = d[key].lower()\n",
        "#     # remove punctuation\n",
        "#     tokens = tk.tokenize(l)\n",
        "#     # remove stop words\n",
        "#     stop_words = set(stopwords.words('english')) \n",
        "#     tokens = [w for w in tokens if not w in stop_words]\n",
        "#     # stematization\n",
        "#     stemmed = []\n",
        "#     for word in tokens:\n",
        "#       stemmed.append(ps.stem(word))\n",
        "#     # save\n",
        "#     d[key] = ' '.join(stemmed)"
      ],
      "execution_count": 0,
      "outputs": []
    },
    {
      "cell_type": "code",
      "metadata": {
        "id": "bCiaUuecNM_N",
        "colab_type": "code",
        "colab": {
          "base_uri": "https://localhost:8080/",
          "height": 51
        },
        "outputId": "d427bfb1-397b-47e9-a473-ea07561235a9"
      },
      "source": [
        "# dropna\n",
        "df_concat = df_concat.dropna(axis=0)\n",
        "# stematization & lowercase\n",
        "nltk.download('punkt')\n",
        "ps = PorterStemmer()\n",
        "for i in df_concat.index:\n",
        "  l = df_concat['abstract'][i].lower()\n",
        "  stemmed = []\n",
        "  for word in tokens:\n",
        "    stemmed.append(ps.stem(word))\n",
        "  df_concat['abstract'][i] = ' '.join(stemmed)"
      ],
      "execution_count": 327,
      "outputs": [
        {
          "output_type": "stream",
          "text": [
            "[nltk_data] Downloading package punkt to /root/nltk_data...\n",
            "[nltk_data]   Package punkt is already up-to-date!\n"
          ],
          "name": "stdout"
        }
      ]
    },
    {
      "cell_type": "code",
      "metadata": {
        "id": "GMhwVSqQC86K",
        "colab_type": "code",
        "colab": {}
      },
      "source": [
        "vectorizer = TfidfVectorizer(\n",
        "    # if different encoding\n",
        "    decode_error='ignore',\n",
        "    # remove accent\n",
        "    strip_accents='ascii',\n",
        "    # to lower case\n",
        "    lowercase=True,\n",
        "    # remove stopwords\n",
        "    stop_words='english',\n",
        "    # analyse at the word level\n",
        "    analyzer='word',\n",
        "    # consider words between 2 and 20 char\n",
        "    token_pattern=r'\\w{2,20}',\n",
        "    # number of features\n",
        "    max_features=20,\n",
        "    # normalize the tf-idf to make the vector have a unit norm\n",
        "    norm='l2'\n",
        ")\n",
        "X = vectorizer.fit_transform(df_concat['abstract'])\n",
        "X_arr=X.toarray()\n",
        "feature_names = vectorizer.get_feature_names()"
      ],
      "execution_count": 0,
      "outputs": []
    },
    {
      "cell_type": "code",
      "metadata": {
        "id": "BWTP-_Uj5lzC",
        "colab_type": "code",
        "colab": {}
      },
      "source": [
        "# put everything in a dic\n",
        "i=0\n",
        "dic={}\n",
        "for row in X_arr:\n",
        "    dic[i] = {key : value for value, key in zip(row, feature_names)}\n",
        "    i+=1"
      ],
      "execution_count": 0,
      "outputs": []
    },
    {
      "cell_type": "code",
      "metadata": {
        "id": "SGdLGmxZSvGa",
        "colab_type": "code",
        "colab": {}
      },
      "source": [
        "json = json.dumps(dic)\n",
        "f = open(\"dict.json\",\"w\")\n",
        "f.write(json)\n",
        "f.close()"
      ],
      "execution_count": 0,
      "outputs": []
    }
  ]
}